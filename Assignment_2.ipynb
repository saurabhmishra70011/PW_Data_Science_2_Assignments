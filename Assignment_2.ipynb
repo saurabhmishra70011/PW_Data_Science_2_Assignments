{
 "cells": [
  {
   "cell_type": "markdown",
   "id": "d785d71c-a9c4-42a3-84f0-7fe4f92c090a",
   "metadata": {},
   "source": [
    "### Q1-How do you comment code in Python? What are the different types of comments?"
   ]
  },
  {
   "cell_type": "code",
   "execution_count": 1,
   "id": "d5a28279-1acb-4d6f-a849-1e6ea6f0eeb0",
   "metadata": {},
   "outputs": [],
   "source": [
    "#single line comment "
   ]
  },
  {
   "cell_type": "code",
   "execution_count": 2,
   "id": "5a544d85-7045-40b3-b962-e0855ebcdfdb",
   "metadata": {},
   "outputs": [],
   "source": [
    "#assigning value to variable x \n",
    "x=10"
   ]
  },
  {
   "cell_type": "code",
   "execution_count": 3,
   "id": "83dd25cf-2c26-49fa-acd0-6ae6c3620296",
   "metadata": {},
   "outputs": [],
   "source": [
    "#multi line comment "
   ]
  },
  {
   "cell_type": "code",
   "execution_count": 4,
   "id": "9a08e160-d700-434d-892c-ebcc920cf1a8",
   "metadata": {},
   "outputs": [
    {
     "data": {
      "text/plain": [
       "'\\nIn this cell I am writing a multi-line comment in Python.\\nIt can span across multiple lines.\\n'"
      ]
     },
     "execution_count": 4,
     "metadata": {},
     "output_type": "execute_result"
    }
   ],
   "source": [
    "\"\"\"\n",
    "In this cell I am writing a multi-line comment in Python.\n",
    "It can span across multiple lines.\n",
    "\"\"\""
   ]
  },
  {
   "cell_type": "markdown",
   "id": "fd101dd4-2a59-4fa3-a4f1-57193182c7d2",
   "metadata": {},
   "source": [
    "### Q2. What are variables in Python? How do you declare and assign values to variables?"
   ]
  },
  {
   "cell_type": "markdown",
   "id": "4bb0e0db-db46-4b74-ad36-10265c0eb503",
   "metadata": {},
   "source": [
    "variables are used to store and manipulate data. A variable is like a container that holds a value, and we can assign different values to it during the execution of a program."
   ]
  },
  {
   "cell_type": "code",
   "execution_count": 5,
   "id": "87e2968c-33b2-4020-b393-f13fabf10d75",
   "metadata": {},
   "outputs": [],
   "source": [
    "# assigning single value to variable \n",
    "x = 10\n",
    "\n",
    "# assigning multiple value to variables \n",
    "x, y, z = 10, 20, 30\n"
   ]
  },
  {
   "cell_type": "markdown",
   "id": "912e6a30-bf2e-4f42-84f7-67a3cadcb1d4",
   "metadata": {},
   "source": [
    "### Q3. How do you convert one data type to another in Python?"
   ]
  },
  {
   "cell_type": "raw",
   "id": "3052d08f-694c-4366-80be-eaae72bffe4f",
   "metadata": {},
   "source": [
    "int(): Converts a value to an integer data type.\n",
    "float(): Converts a value to a floating-point data type.\n",
    "str(): Converts a value to a string data type.\n",
    "list(): Converts a sequence (like a tuple or string) to a list data type.\n",
    "tuple(): Converts a sequence (like a list or string) to a tuple data type.\n",
    "dict(): Converts a sequence of key-value pairs (like a list of tuples) to a dictionary data type."
   ]
  },
  {
   "cell_type": "code",
   "execution_count": 8,
   "id": "40e86353-6fa4-4c31-88b3-d5e53c2410a4",
   "metadata": {},
   "outputs": [],
   "source": [
    "x = 10\n",
    "y = float(x)  # Convert x to a float\n",
    "\n",
    "\n",
    "z = str(y)  # Convert y to a string\n",
    "\n",
    "my_list = [1, 2, 3]\n",
    "my_tuple = tuple(my_list)  # Convert list to a tupleo"
   ]
  },
  {
   "cell_type": "markdown",
   "id": "411e9dfa-358d-4f48-8ded-325ce6f3d7b6",
   "metadata": {},
   "source": [
    "### Q4. How do you write and execute a Python script from the command line?"
   ]
  },
  {
   "cell_type": "raw",
   "id": "68a5259d-44bd-4dc1-adcb-faa96b42e2ab",
   "metadata": {},
   "source": [
    "first we need to write the pythod code or script \n",
    "then save the file with .py extension in your local in a paricular folder\n",
    "then open command prompt \n",
    "change the directory using cd commnad (move to location where .py file is saved)\n",
    "then type python3 filename.py\n",
    "press enter and we would be able to see our python script that we saved earlier "
   ]
  },
  {
   "cell_type": "markdown",
   "id": "d59d14bb-ef48-4f49-91e6-bac38c5bb4bd",
   "metadata": {},
   "source": [
    "### Q5. Given a list my_list = [1, 2, 3, 4, 5], write the code to slice the list and obtain the sub-list [2, 3]."
   ]
  },
  {
   "cell_type": "code",
   "execution_count": 13,
   "id": "544da544-0949-4646-9328-9124c7b6d417",
   "metadata": {},
   "outputs": [
    {
     "data": {
      "text/plain": [
       "[2, 3]"
      ]
     },
     "execution_count": 13,
     "metadata": {},
     "output_type": "execute_result"
    }
   ],
   "source": [
    "l1 = [1,2,3,4,5]\n",
    "l2 = l1[1:3]\n",
    "l2"
   ]
  },
  {
   "cell_type": "code",
   "execution_count": 14,
   "id": "1f1a0020-4948-4d77-bd95-9fefd2bd055e",
   "metadata": {},
   "outputs": [
    {
     "data": {
      "text/plain": [
       "list"
      ]
     },
     "execution_count": 14,
     "metadata": {},
     "output_type": "execute_result"
    }
   ],
   "source": [
    "type(l2)"
   ]
  },
  {
   "cell_type": "markdown",
   "id": "9c1fe81b-5c5d-4d65-b1a6-59b0aac7d729",
   "metadata": {},
   "source": [
    "### Q6. What is a complex number in mathematics, and how is it represented in Python?"
   ]
  },
  {
   "cell_type": "raw",
   "id": "1af26e1f-b861-4f69-9f7f-1ec6c1401a02",
   "metadata": {},
   "source": [
    "A number which contains both real and imaginary part is known as complex number,  In mathematics we show the complex number as shown below-\n",
    "x = a + ib\n",
    "where x is complex no , a is real part of complex no , b is imaginary part of complex no  "
   ]
  },
  {
   "cell_type": "code",
   "execution_count": 15,
   "id": "380803b0-9e40-4165-876c-2c4667fc7ec3",
   "metadata": {},
   "outputs": [
    {
     "data": {
      "text/plain": [
       "complex"
      ]
     },
     "execution_count": 15,
     "metadata": {},
     "output_type": "execute_result"
    }
   ],
   "source": [
    "# in python we show the complex no as shown below (here we use j instead of i)\n",
    "y = 2 + 3j\n",
    "type(y)"
   ]
  },
  {
   "cell_type": "code",
   "execution_count": 16,
   "id": "ee917b0f-82c2-4362-8f5f-840833b0a292",
   "metadata": {},
   "outputs": [
    {
     "data": {
      "text/plain": [
       "2.0"
      ]
     },
     "execution_count": 16,
     "metadata": {},
     "output_type": "execute_result"
    }
   ],
   "source": [
    "y.real"
   ]
  },
  {
   "cell_type": "code",
   "execution_count": 17,
   "id": "cc6c8321-ab4f-48e5-af9f-df32259a2237",
   "metadata": {},
   "outputs": [
    {
     "data": {
      "text/plain": [
       "3.0"
      ]
     },
     "execution_count": 17,
     "metadata": {},
     "output_type": "execute_result"
    }
   ],
   "source": [
    "y.imag"
   ]
  },
  {
   "cell_type": "markdown",
   "id": "32f5c2be-bdf1-4a83-9626-bae520c7c53a",
   "metadata": {},
   "source": [
    "### Q7. What is the correct way to declare a variable named age and assign the value 25 to it?"
   ]
  },
  {
   "cell_type": "code",
   "execution_count": 18,
   "id": "6f88c8de-ec56-41f1-b421-0d2b117b91f6",
   "metadata": {},
   "outputs": [],
   "source": [
    "# declaring a variable age and assigning value 25\n",
    "age = 25"
   ]
  },
  {
   "cell_type": "markdown",
   "id": "0647b0fc-3b34-413f-8aac-794acac53bdf",
   "metadata": {},
   "source": [
    "### Q8. Declare a variable named price and assign the value 9.99 to it. What data type does this variable belong to?\n"
   ]
  },
  {
   "cell_type": "code",
   "execution_count": 19,
   "id": "18ded8e2-f709-4598-9460-33067a27846c",
   "metadata": {},
   "outputs": [],
   "source": [
    "price = 9.99"
   ]
  },
  {
   "cell_type": "code",
   "execution_count": 22,
   "id": "7a5653e2-a070-4804-be5d-ff835380403e",
   "metadata": {},
   "outputs": [
    {
     "name": "stdout",
     "output_type": "stream",
     "text": [
      "The data type of price is  <class 'float'>\n"
     ]
    }
   ],
   "source": [
    "print(\"The data type of price is \", type(price))"
   ]
  },
  {
   "cell_type": "raw",
   "id": "5104575f-022c-4962-9f0c-8390f3db8230",
   "metadata": {},
   "source": [
    "Hence its belong to float data type"
   ]
  },
  {
   "cell_type": "markdown",
   "id": "d53ad030-9d19-454c-aaf4-7fc15d2b3e7a",
   "metadata": {},
   "source": [
    "### Q9. Create a variable named name and assign your full name to it as a string. How would you print the value of this variable?\n"
   ]
  },
  {
   "cell_type": "code",
   "execution_count": 23,
   "id": "e3943df5-fadc-44c4-9bc3-2b0ae79cc489",
   "metadata": {},
   "outputs": [
    {
     "name": "stdout",
     "output_type": "stream",
     "text": [
      "Saurabh Mishra\n"
     ]
    }
   ],
   "source": [
    "name = \"Saurabh Mishra\"\n",
    "print(name)"
   ]
  },
  {
   "cell_type": "markdown",
   "id": "11ef4762-efa7-44fb-8670-9eaed92eb6fc",
   "metadata": {},
   "source": [
    "### Q10. Given the string \"Hello, World!\", extract the substring \"World\"."
   ]
  },
  {
   "cell_type": "code",
   "execution_count": 27,
   "id": "9ad27fc5-b826-4ccd-887c-f9912cc2f58f",
   "metadata": {},
   "outputs": [
    {
     "data": {
      "text/plain": [
       "'World'"
      ]
     },
     "execution_count": 27,
     "metadata": {},
     "output_type": "execute_result"
    }
   ],
   "source": [
    "s = \"Hello, World\"\n",
    "s[7:]"
   ]
  },
  {
   "cell_type": "markdown",
   "id": "245b8e26-8d23-4baf-9588-fbe3b3ecd719",
   "metadata": {},
   "source": [
    "### Q11. Create a variable named \"is_student\" and assign it a boolean value indicating whether you are currently a student or not. \n"
   ]
  },
  {
   "cell_type": "code",
   "execution_count": 28,
   "id": "68513346-09a7-4c90-b027-0eb85ba409bb",
   "metadata": {},
   "outputs": [],
   "source": [
    "is_student = False"
   ]
  },
  {
   "cell_type": "code",
   "execution_count": 29,
   "id": "4fc42cf7-918f-45f6-850e-4eae2ec47b83",
   "metadata": {},
   "outputs": [
    {
     "data": {
      "text/plain": [
       "bool"
      ]
     },
     "execution_count": 29,
     "metadata": {},
     "output_type": "execute_result"
    }
   ],
   "source": [
    "type(is_student)"
   ]
  },
  {
   "cell_type": "code",
   "execution_count": null,
   "id": "3187b57c-c377-4508-8ee9-28d85086bcfc",
   "metadata": {},
   "outputs": [],
   "source": []
  }
 ],
 "metadata": {
  "kernelspec": {
   "display_name": "Python 3 (ipykernel)",
   "language": "python",
   "name": "python3"
  },
  "language_info": {
   "codemirror_mode": {
    "name": "ipython",
    "version": 3
   },
   "file_extension": ".py",
   "mimetype": "text/x-python",
   "name": "python",
   "nbconvert_exporter": "python",
   "pygments_lexer": "ipython3",
   "version": "3.10.8"
  }
 },
 "nbformat": 4,
 "nbformat_minor": 5
}
