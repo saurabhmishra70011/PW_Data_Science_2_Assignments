{
 "cells": [
  {
   "cell_type": "markdown",
   "id": "02c5cbf9-2730-4085-b3e5-bca2b31539c1",
   "metadata": {},
   "source": [
    "### Q1. Which keyword is used to create a function? Create a function to return a list of odd numbers in the range of 1 to 25.\n"
   ]
  },
  {
   "cell_type": "raw",
   "id": "5d461160-b505-4781-ab80-cb5503504c73",
   "metadata": {},
   "source": [
    "def "
   ]
  },
  {
   "cell_type": "code",
   "execution_count": 20,
   "id": "416260db-3a63-4785-98cc-925b068ee781",
   "metadata": {},
   "outputs": [],
   "source": [
    "def odd_no():\n",
    "    l1=[]\n",
    "    for i in range(1,26):\n",
    "        if i%2 != 0:\n",
    "            l1.append(i)\n",
    "    return l1"
   ]
  },
  {
   "cell_type": "code",
   "execution_count": 21,
   "id": "df2bf61a-944f-4681-937b-2c2d19a375c5",
   "metadata": {},
   "outputs": [
    {
     "data": {
      "text/plain": [
       "[1, 3, 5, 7, 9, 11, 13, 15, 17, 19, 21, 23, 25]"
      ]
     },
     "execution_count": 21,
     "metadata": {},
     "output_type": "execute_result"
    }
   ],
   "source": [
    "odd_no()"
   ]
  },
  {
   "cell_type": "markdown",
   "id": "e93fa0dc-a206-48dc-8056-d0574df78ed8",
   "metadata": {},
   "source": [
    "### Q2. Why *args and **kwargs is used in some functions? Create a function each for *args and **kwargs to demonstrate their use.\n"
   ]
  },
  {
   "cell_type": "raw",
   "id": "bd8e4ab6-1294-4ec8-a773-c5695e6804b4",
   "metadata": {},
   "source": [
    "*args allows a function to accept any number of positional arguments. The asterisk (*) before args indicates that multiple arguments can be passed to the function, and they will be packed into a tuple."
   ]
  },
  {
   "cell_type": "code",
   "execution_count": 24,
   "id": "ba6f8965-8ee0-45ba-98b0-01610e9eedfb",
   "metadata": {},
   "outputs": [
    {
     "name": "stdout",
     "output_type": "stream",
     "text": [
      "60\n"
     ]
    }
   ],
   "source": [
    "def sum_numbers(*args):\n",
    "    total = 0\n",
    "    for num in args:\n",
    "        total += num\n",
    "    return total\n",
    "\n",
    "result = sum_numbers(10, 20, 30)\n",
    "print(result) "
   ]
  },
  {
   "cell_type": "raw",
   "id": "2fce6c74-c630-4715-98ea-3655b8a0beb8",
   "metadata": {},
   "source": [
    "**kwargs allows a function to accept any number of keyword arguments. The double asterisks (**) before kwargs indicate that multiple keyword arguments can be passed to the function, and they will be packed into a dictionary."
   ]
  },
  {
   "cell_type": "code",
   "execution_count": 33,
   "id": "d095185b-d92e-467a-ae51-e64a48d488ec",
   "metadata": {},
   "outputs": [
    {
     "name": "stdout",
     "output_type": "stream",
     "text": [
      "name: John\n",
      "age: 25\n",
      "city: New York\n"
     ]
    }
   ],
   "source": [
    "def print_details(**kwargs):\n",
    "    for key, value in kwargs.items():\n",
    "        print(f\"{key}: {value}\")\n",
    "        \n",
    "        \n",
    "print_details(name=\"John\", age=25, city=\"New York\")"
   ]
  },
  {
   "cell_type": "markdown",
   "id": "92fe810c-98b8-4c3b-953e-7af5ad3a48cf",
   "metadata": {},
   "source": [
    "### Q3. What is an iterator in python? Name the method used to initialise the iterator object and the method used for iteration. Use these methods to print the first five elements of the given list [2, 4, 6, 8, 10, 12, 14,16, 18, 20].\n",
    "\n"
   ]
  },
  {
   "cell_type": "raw",
   "id": "7167cb61-4992-4e7f-aee3-404541b725a6",
   "metadata": {},
   "source": [
    "Iterator allows objects to be iterated or looped over, providing access to their elements one at a time. \n",
    "To initialize the iterator object, the method used is iter(). "
   ]
  },
  {
   "cell_type": "code",
   "execution_count": 38,
   "id": "adc2d528-2c44-48cf-97b5-6694fe55e34f",
   "metadata": {},
   "outputs": [
    {
     "name": "stdout",
     "output_type": "stream",
     "text": [
      "2\n",
      "4\n",
      "6\n",
      "8\n",
      "10\n"
     ]
    }
   ],
   "source": [
    "my_list = [2, 4, 6, 8, 10, 12, 14, 16, 18, 20]\n",
    "\n",
    "# Initialize the iterator object\n",
    "my_iterator = iter(my_list)\n",
    "\n",
    "# Iterate and print the first five elements using the iterator\n",
    "for i in range(5):\n",
    "    element = next(my_iterator)\n",
    "    print(element)\n"
   ]
  },
  {
   "cell_type": "markdown",
   "id": "aefaea77-a4c5-42fb-848c-1ff416427d53",
   "metadata": {},
   "source": [
    "### Q4. What is a generator function in python? Why yield keyword is used? Give an example of a generator function."
   ]
  },
  {
   "cell_type": "raw",
   "id": "2989de44-fae1-4e0f-8c4f-23def6c80ead",
   "metadata": {},
   "source": [
    "A generator function in Python is a special type of function that generates an iterator. It uses the yield keyword instead of return to return values one at a time.\n",
    "\n",
    "The yield keyword is used in a generator function to yield a value to save memory."
   ]
  },
  {
   "cell_type": "code",
   "execution_count": 42,
   "id": "91151654-56bd-4118-bbc2-8a87f1887391",
   "metadata": {},
   "outputs": [
    {
     "name": "stdout",
     "output_type": "stream",
     "text": [
      "0\n",
      "2\n",
      "4\n",
      "6\n",
      "8\n",
      "10\n"
     ]
    }
   ],
   "source": [
    "def even_numbers(limit):\n",
    "    num = 0\n",
    "    while num <= limit:\n",
    "        yield num\n",
    "        num += 2\n",
    "\n",
    "# Using the generator function to print even numbers up to 10\n",
    "even_gen = even_numbers(10)\n",
    "for num in even_gen:\n",
    "    print(num)"
   ]
  },
  {
   "cell_type": "markdown",
   "id": "7f4894e0-152d-427d-a4f6-cf2afe54cbe8",
   "metadata": {},
   "source": [
    "### Q5. Create a generator function for prime numbers less than 1000. Use the next() method to print the first 20 prime numbers."
   ]
  },
  {
   "cell_type": "code",
   "execution_count": 1,
   "id": "354bad25-eed6-463d-963b-1c36d87808ac",
   "metadata": {},
   "outputs": [
    {
     "name": "stdout",
     "output_type": "stream",
     "text": [
      "2\n",
      "3\n",
      "5\n",
      "7\n",
      "11\n",
      "13\n",
      "17\n",
      "19\n",
      "23\n",
      "29\n",
      "31\n",
      "37\n",
      "41\n",
      "43\n",
      "47\n",
      "53\n",
      "59\n",
      "61\n",
      "67\n",
      "71\n"
     ]
    }
   ],
   "source": [
    "def prime_numbers():\n",
    "    yield 2  # 2 is the first prime number\n",
    "    primes = [2]\n",
    "    num = 3\n",
    "    while num < 1000:\n",
    "        is_prime = True\n",
    "        for prime in primes:\n",
    "            if num % prime == 0:\n",
    "                is_prime = False\n",
    "                break\n",
    "        if is_prime ==True:\n",
    "            primes.append(num)\n",
    "            yield num\n",
    "        num += 2\n",
    "\n",
    "# Using the generator function to print the first 20 prime numbers\n",
    "prime_gen = prime_numbers()\n",
    "for i in range(20):\n",
    "    prime = next(prime_gen)\n",
    "    print(prime)\n"
   ]
  },
  {
   "cell_type": "markdown",
   "id": "3e08c0b5-0116-4d93-83af-660db81aa84a",
   "metadata": {},
   "source": [
    "### Q6. Write a python program to print the first 10 Fibonacci numbers using a while loop."
   ]
  },
  {
   "cell_type": "code",
   "execution_count": 2,
   "id": "9deb09f0-4c2e-4a6a-beaf-8529aebf197e",
   "metadata": {},
   "outputs": [],
   "source": [
    "def test_fib1():\n",
    "    a,b = 0,1\n",
    "    while True:\n",
    "        yield a \n",
    "        a,b = b , a+b"
   ]
  },
  {
   "cell_type": "code",
   "execution_count": 3,
   "id": "b50126c5-04db-4e0d-951f-0f8ed5ac647e",
   "metadata": {},
   "outputs": [
    {
     "name": "stdout",
     "output_type": "stream",
     "text": [
      "0\n",
      "1\n",
      "1\n",
      "2\n",
      "3\n",
      "5\n",
      "8\n",
      "13\n",
      "21\n",
      "34\n"
     ]
    }
   ],
   "source": [
    "fib = test_fib1()\n",
    "for i in range(10):\n",
    "    print(next(fib))"
   ]
  },
  {
   "cell_type": "markdown",
   "id": "54144672-6e02-4a7f-894d-87b38bbe4e61",
   "metadata": {},
   "source": [
    "### Q7. Write a List Comprehension to iterate through the given string: ‘pwskills’.\n",
    "#### Expected output: ['p', 'w', 's', 'k', 'i', 'l', 'l', 's']"
   ]
  },
  {
   "cell_type": "code",
   "execution_count": 5,
   "id": "7d96a6c5-9089-4523-ab90-b5e674801eb0",
   "metadata": {},
   "outputs": [],
   "source": [
    "strng = \"pwskills\""
   ]
  },
  {
   "cell_type": "code",
   "execution_count": 6,
   "id": "3e120e94-cec7-4910-a193-23abc8339a41",
   "metadata": {},
   "outputs": [],
   "source": [
    "st=[]\n",
    "for s in strng:\n",
    "    st.append(s)"
   ]
  },
  {
   "cell_type": "code",
   "execution_count": 7,
   "id": "b45b3139-4e29-4645-a357-6e9e0b7ea292",
   "metadata": {},
   "outputs": [
    {
     "data": {
      "text/plain": [
       "['p', 'w', 's', 'k', 'i', 'l', 'l', 's']"
      ]
     },
     "execution_count": 7,
     "metadata": {},
     "output_type": "execute_result"
    }
   ],
   "source": [
    "st"
   ]
  },
  {
   "cell_type": "code",
   "execution_count": 21,
   "id": "42aa9997-2806-4f7a-a7ce-97820455a8dd",
   "metadata": {},
   "outputs": [
    {
     "name": "stdout",
     "output_type": "stream",
     "text": [
      "['p', 'w', 's', 'k', 'i', 'l', 'l', 's']\n"
     ]
    }
   ],
   "source": [
    "x = [st for st in strng]\n",
    "print(x)"
   ]
  },
  {
   "cell_type": "markdown",
   "id": "3f4f05b4-4d47-436a-a72c-7d06da1a2d3d",
   "metadata": {},
   "source": [
    "### Q8. Write a python program to check whether a given number is Palindrome or not using a while loop."
   ]
  },
  {
   "cell_type": "code",
   "execution_count": 20,
   "id": "983c65fd-d2bf-4e84-ae73-b0059814550a",
   "metadata": {},
   "outputs": [
    {
     "name": "stdin",
     "output_type": "stream",
     "text": [
      "Enter a number:  121\n"
     ]
    },
    {
     "name": "stdout",
     "output_type": "stream",
     "text": [
      "121 is a palindrome!\n"
     ]
    }
   ],
   "source": [
    "def is_palindrome(number):\n",
    "    original_number = number\n",
    "    reverse_number = 0\n",
    "\n",
    "    while number > 0:\n",
    "        # Extract the last digit\n",
    "        digit = number % 10\n",
    "        # Add the last digit to the reverse number\n",
    "        reverse_number = (reverse_number * 10) + digit\n",
    "        # Remove the last digit from the original number\n",
    "        number = number // 10\n",
    "\n",
    "    if original_number == reverse_number:\n",
    "        return True\n",
    "    else:\n",
    "        return False\n",
    "\n",
    "# Test the function\n",
    "num = int(input(\"Enter a number: \"))\n",
    "if is_palindrome(num):\n",
    "    print(num, \"is a palindrome!\")\n",
    "else:\n",
    "    print(num, \"is not a palindrome!\")\n"
   ]
  },
  {
   "cell_type": "markdown",
   "id": "9e268b3d-d798-46c8-8ca1-38958815b459",
   "metadata": {},
   "source": [
    "### Q9. Write a code to print odd numbers from 1 to 100 using list comprehension.\n",
    "#### Note: Use a list comprehension to create a list from 1 to 100 and use another List comprehension to filter out odd numbers."
   ]
  },
  {
   "cell_type": "code",
   "execution_count": 22,
   "id": "77b0f637-8af3-40fc-9029-eec9b59b25a4",
   "metadata": {},
   "outputs": [
    {
     "name": "stdout",
     "output_type": "stream",
     "text": [
      "[1, 3, 5, 7, 9, 11, 13, 15, 17, 19, 21, 23, 25, 27, 29, 31, 33, 35, 37, 39, 41, 43, 45, 47, 49, 51, 53, 55, 57, 59, 61, 63, 65, 67, 69, 71, 73, 75, 77, 79, 81, 83, 85, 87, 89, 91, 93, 95, 97, 99]\n"
     ]
    }
   ],
   "source": [
    "odd_numbers = [num for num in range(1, 101) if num % 2 != 0]\n",
    "\n",
    "print(odd_numbers)\n"
   ]
  },
  {
   "cell_type": "code",
   "execution_count": null,
   "id": "1de54a5e-05ea-434c-9445-c2a9e69657d2",
   "metadata": {},
   "outputs": [],
   "source": []
  }
 ],
 "metadata": {
  "kernelspec": {
   "display_name": "Python 3 (ipykernel)",
   "language": "python",
   "name": "python3"
  },
  "language_info": {
   "codemirror_mode": {
    "name": "ipython",
    "version": 3
   },
   "file_extension": ".py",
   "mimetype": "text/x-python",
   "name": "python",
   "nbconvert_exporter": "python",
   "pygments_lexer": "ipython3",
   "version": "3.10.8"
  }
 },
 "nbformat": 4,
 "nbformat_minor": 5
}
