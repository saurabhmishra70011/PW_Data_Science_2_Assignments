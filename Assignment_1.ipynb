{
 "cells": [
  {
   "cell_type": "markdown",
   "id": "61f7bb44-c300-48a7-900a-ab3761c938b8",
   "metadata": {},
   "source": [
    "### Q1. Create one variable containing following type of data:\n",
    "(i) string\n",
    "(ii) list\n",
    "(iii) float\n",
    "(iv) tuple"
   ]
  },
  {
   "cell_type": "code",
   "execution_count": 1,
   "id": "998d096e-d168-46e8-aaf2-cf8afebd0d2d",
   "metadata": {},
   "outputs": [],
   "source": [
    "# string variable\n",
    "var_1 = \"Alice\"\n",
    "\n",
    "# list variable\n",
    "var_2 = [1, 2, 3, 4, 5]\n",
    "\n",
    "# float variable\n",
    "var_3 = 9.99\n",
    "\n",
    "# tuple variable\n",
    "var_3 = (23.45, -123.67)"
   ]
  },
  {
   "cell_type": "markdown",
   "id": "1e86f92e-cc7b-476f-9caf-e9c1306f7ffa",
   "metadata": {},
   "source": [
    "### Q2. Given are some following variables containing data:\n",
    "(i) var1 = ‘ ‘\n",
    "(ii) var2 = ‘[ DS , ML , Python]’\n",
    "(iii) var3 = [ ‘DS’ , ’ML’ , ‘Python’ ]\n",
    "(iv) var4 = 1."
   ]
  },
  {
   "cell_type": "code",
   "execution_count": 2,
   "id": "63461317-16ed-4ae2-ad82-fd2b0eeb1a46",
   "metadata": {},
   "outputs": [],
   "source": [
    "var1 = ''\n",
    "var2 = '[ DS , ML , Python]'\n",
    "var3 = [ 'DS' , 'ML' , 'Python' ]\n",
    "var4 = 1"
   ]
  },
  {
   "cell_type": "code",
   "execution_count": 3,
   "id": "e1aeb828-e296-4b3d-9181-e9536f4a5f20",
   "metadata": {},
   "outputs": [
    {
     "name": "stdout",
     "output_type": "stream",
     "text": [
      "var1 type is type  <class 'str'>\n",
      "var2 type is type  <class 'str'>\n",
      "var3 type is type  <class 'list'>\n",
      "var4 type is type  <class 'int'>\n"
     ]
    }
   ],
   "source": [
    "print(\"var1 type is type \", type(var1))\n",
    "print(\"var2 type is type \", type(var2))\n",
    "print(\"var3 type is type \", type(var3))\n",
    "print(\"var4 type is type \", type(var4))"
   ]
  },
  {
   "cell_type": "markdown",
   "id": "9dcb9db5-cd0c-49e5-abe0-e026b2035eb4",
   "metadata": {
    "tags": []
   },
   "source": [
    "### Q3. Explain the use of the following operators using an example:\n",
    "(i) /\n",
    "(ii) %\n",
    "(iii) //\n",
    "(iv) ** "
   ]
  },
  {
   "cell_type": "code",
   "execution_count": 4,
   "id": "e158e3ca-f0cc-40fc-8a82-6d90c1721fbd",
   "metadata": {},
   "outputs": [
    {
     "name": "stdout",
     "output_type": "stream",
     "text": [
      "2.5\n",
      "1\n",
      "2\n",
      "25\n"
     ]
    }
   ],
   "source": [
    "# division \n",
    "div_1 = 5 / 2\n",
    "print(div_1)  \n",
    "\n",
    "# modulus\n",
    "mdl_1 = 5 % 2\n",
    "print(mdl_1)\n",
    "\n",
    "# integer division \n",
    "indv_1 = 5 // 2\n",
    "print(indv_1)  \n",
    "\n",
    "# exponentiation \n",
    "ex_1 = 5 ** 2\n",
    "print(ex_1) "
   ]
  },
  {
   "cell_type": "markdown",
   "id": "43928b04-c836-41f6-a609-6584e5a65b0f",
   "metadata": {},
   "source": [
    "### Q4. Create a list of length 10 of your choice containing multiple types of data. Using for loop print the element and its data type.\n"
   ]
  },
  {
   "cell_type": "code",
   "execution_count": 5,
   "id": "47b9d00d-f3a7-47a2-ad35-aeeea35b7a31",
   "metadata": {},
   "outputs": [],
   "source": [
    "lst_1 = [1, 2, 3, 4.5, 6.7, \"Sudhanshu\", \"Krish\", \"Saurabh\", True, False]"
   ]
  },
  {
   "cell_type": "code",
   "execution_count": 6,
   "id": "a8f3a946-627a-4af3-abac-0805f28c955c",
   "metadata": {},
   "outputs": [
    {
     "name": "stdout",
     "output_type": "stream",
     "text": [
      "element of list is  1 datatype of element in the list is  <class 'int'>\n",
      "element of list is  2 datatype of element in the list is  <class 'int'>\n",
      "element of list is  3 datatype of element in the list is  <class 'int'>\n",
      "element of list is  4.5 datatype of element in the list is  <class 'float'>\n",
      "element of list is  6.7 datatype of element in the list is  <class 'float'>\n",
      "element of list is  Sudhanshu datatype of element in the list is  <class 'str'>\n",
      "element of list is  Krish datatype of element in the list is  <class 'str'>\n",
      "element of list is  Saurabh datatype of element in the list is  <class 'str'>\n",
      "element of list is  True datatype of element in the list is  <class 'bool'>\n",
      "element of list is  False datatype of element in the list is  <class 'bool'>\n"
     ]
    }
   ],
   "source": [
    "for i in lst_1:\n",
    "    print(\"element of list is \", i , \"datatype of element in the list is \",type(i))"
   ]
  },
  {
   "cell_type": "markdown",
   "id": "a7c5d4cd-5b61-4aa1-8336-11ba35bfa0a0",
   "metadata": {},
   "source": [
    "### Q5. Using a while loop, verify if the number A is purely divisible by number B and if so then how many times it can be divisible.\n"
   ]
  },
  {
   "cell_type": "code",
   "execution_count": 7,
   "id": "8fb5868b-32cb-46f3-bc87-28da0068ce16",
   "metadata": {},
   "outputs": [
    {
     "data": {
      "text/plain": [
       "5"
      ]
     },
     "execution_count": 7,
     "metadata": {},
     "output_type": "execute_result"
    }
   ],
   "source": [
    "10//2"
   ]
  },
  {
   "cell_type": "code",
   "execution_count": 14,
   "id": "f42d062c-8e71-4e3f-866c-505ee8444832",
   "metadata": {},
   "outputs": [
    {
     "name": "stdin",
     "output_type": "stream",
     "text": [
      "Enter the value of A:  20\n",
      "Enter the value of B:  10\n"
     ]
    },
    {
     "name": "stdout",
     "output_type": "stream",
     "text": [
      "20  is divisible by  10 ,  2 times\n"
     ]
    }
   ],
   "source": [
    "A = int(input(\"Enter the value of A: \"))\n",
    "B = int(input(\"Enter the value of B: \"))\n",
    "x=A\n",
    "count = 0\n",
    "\n",
    "while A % B == 0:\n",
    "    count += 1\n",
    "    A //= B\n",
    "\n",
    "if count > 0:\n",
    "    print(x, \" is divisible by \", B, \", \" , A, \"times\")\n",
    "else:\n",
    "    print(x, \" is not divisible by \", B)\n"
   ]
  },
  {
   "cell_type": "markdown",
   "id": "dfb15de5-b28c-4230-9198-2f2f708c9e19",
   "metadata": {},
   "source": [
    "### Q6. Create a list containing 25 int type data. Using for loop and if-else condition print if the element is divisible by 3 or not."
   ]
  },
  {
   "cell_type": "code",
   "execution_count": 24,
   "id": "47ac6958-ccaa-499d-a98f-b7928c1a2222",
   "metadata": {},
   "outputs": [
    {
     "name": "stdout",
     "output_type": "stream",
     "text": [
      "5 is not divisible by 3\n",
      "18 is divisible by 3\n",
      "7 is not divisible by 3\n",
      "12 is divisible by 3\n",
      "9 is divisible by 3\n",
      "15 is divisible by 3\n",
      "28 is not divisible by 3\n",
      "33 is divisible by 3\n",
      "42 is divisible by 3\n",
      "50 is not divisible by 3\n",
      "21 is divisible by 3\n",
      "36 is divisible by 3\n",
      "63 is divisible by 3\n",
      "77 is not divisible by 3\n",
      "88 is not divisible by 3\n",
      "99 is divisible by 3\n",
      "22 is not divisible by 3\n",
      "27 is divisible by 3\n",
      "30 is divisible by 3\n",
      "44 is not divisible by 3\n",
      "55 is not divisible by 3\n",
      "66 is divisible by 3\n",
      "72 is divisible by 3\n",
      "81 is divisible by 3\n",
      "90 is divisible by 3\n"
     ]
    }
   ],
   "source": [
    "my_list = [5, 18, 7, 12, 9, 15, 28, 33, 42, 50, 21, 36, 63, 77, 88, 99, 22, 27, 30, 44, 55, 66, 72, 81, 90]\n",
    "\n",
    "for num in my_list:\n",
    "    if num % 3 == 0:\n",
    "        print(num, \"is divisible by 3\")\n",
    "    else:\n",
    "        print(num, \"is not divisible by 3\")\n"
   ]
  },
  {
   "cell_type": "markdown",
   "id": "1500cbdc-6544-4a22-a176-db0833a7b1ab",
   "metadata": {},
   "source": [
    "### Q7.What do you understand about mutable and immutable data types? Give examples for both showing this property.\n"
   ]
  },
  {
   "cell_type": "markdown",
   "id": "8c1278f3-bac7-4436-b967-9bbeda088f67",
   "metadata": {},
   "source": [
    "#### list is an example of mutable data type because we can change its element inside the list "
   ]
  },
  {
   "cell_type": "code",
   "execution_count": 25,
   "id": "2a46b5c0-519a-4f51-9393-daa24c2129f3",
   "metadata": {},
   "outputs": [
    {
     "name": "stdout",
     "output_type": "stream",
     "text": [
      "[1, 2, 3, 4]\n",
      "[1, 5, 3, 4]\n"
     ]
    }
   ],
   "source": [
    "my_list = [1, 2, 3, 4]\n",
    "print(my_list) \n",
    "\n",
    "# Modifying the list\n",
    "my_list[1] = 5\n",
    "print(my_list)\n"
   ]
  },
  {
   "cell_type": "markdown",
   "id": "7fc5da08-854f-4c0d-8a1a-7691bfe97b06",
   "metadata": {},
   "source": [
    "#### string is an example of immutable data type because we can not modify it"
   ]
  },
  {
   "cell_type": "code",
   "execution_count": 26,
   "id": "a02dd19f-2030-478d-8c60-cd45a71020f7",
   "metadata": {},
   "outputs": [
    {
     "name": "stdout",
     "output_type": "stream",
     "text": [
      "Alice\n"
     ]
    },
    {
     "ename": "TypeError",
     "evalue": "'str' object does not support item assignment",
     "output_type": "error",
     "traceback": [
      "\u001b[0;31m---------------------------------------------------------------------------\u001b[0m",
      "\u001b[0;31mTypeError\u001b[0m                                 Traceback (most recent call last)",
      "Cell \u001b[0;32mIn[26], line 5\u001b[0m\n\u001b[1;32m      2\u001b[0m \u001b[38;5;28mprint\u001b[39m(name) \n\u001b[1;32m      4\u001b[0m \u001b[38;5;66;03m# Attempt to modify the string\u001b[39;00m\n\u001b[0;32m----> 5\u001b[0m \u001b[43mname\u001b[49m\u001b[43m[\u001b[49m\u001b[38;5;241;43m0\u001b[39;49m\u001b[43m]\u001b[49m \u001b[38;5;241m=\u001b[39m \u001b[38;5;124m'\u001b[39m\u001b[38;5;124mB\u001b[39m\u001b[38;5;124m'\u001b[39m\n\u001b[1;32m      6\u001b[0m \u001b[38;5;28mprint\u001b[39m(name)\n",
      "\u001b[0;31mTypeError\u001b[0m: 'str' object does not support item assignment"
     ]
    }
   ],
   "source": [
    "name = \"Alice\"\n",
    "print(name) \n",
    "\n",
    "# Attempt to modify the string\n",
    "name[0] = 'B'\n",
    "print(name)\n"
   ]
  },
  {
   "cell_type": "code",
   "execution_count": null,
   "id": "125e3858-747d-431a-8218-9a348c5cb497",
   "metadata": {},
   "outputs": [],
   "source": []
  }
 ],
 "metadata": {
  "kernelspec": {
   "display_name": "Python 3 (ipykernel)",
   "language": "python",
   "name": "python3"
  },
  "language_info": {
   "codemirror_mode": {
    "name": "ipython",
    "version": 3
   },
   "file_extension": ".py",
   "mimetype": "text/x-python",
   "name": "python",
   "nbconvert_exporter": "python",
   "pygments_lexer": "ipython3",
   "version": "3.10.8"
  }
 },
 "nbformat": 4,
 "nbformat_minor": 5
}
